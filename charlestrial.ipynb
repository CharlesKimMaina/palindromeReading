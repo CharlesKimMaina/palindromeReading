{
 "cells": [
  {
   "cell_type": "code",
   "execution_count": 5,
   "id": "69ebfa44",
   "metadata": {},
   "outputs": [],
   "source": [
    "import re\n",
    "import nltk\n",
    "import statistics\n",
    "import pandas as pd\n",
    "import urllib\n",
    "import numpy as np\n",
    "import json\n",
    "import matplotlib.pyplot as plt\n",
    "import string\n",
    "import re\n",
    "import csv"
   ]
  },
  {
   "cell_type": "code",
   "execution_count": 2,
   "id": "ec4a353d",
   "metadata": {},
   "outputs": [],
   "source": [
    "with open (\"palindrome_tester.json\", 'r') as file:\n",
    "    data = json.load(file)"
   ]
  },
  {
   "cell_type": "code",
   "execution_count": 4,
   "id": "68f73971",
   "metadata": {
    "scrolled": false
   },
   "outputs": [
    {
     "name": "stdout",
     "output_type": "stream",
     "text": [
      "[{'id': 1, 'title': 'madam'},\n",
      " {'id': 2, 'title': 'noon'},\n",
      " {'id': 3, 'title': 'wow'},\n",
      " {'id': 4, 'title': 'kayak'},\n",
      " {'id': 5, 'title': 'rotator'},\n",
      " {'id': 6, 'title': 'repaper'},\n",
      " {'id': 7, 'title': 'deed'},\n",
      " {'id': 8, 'title': 'peep'},\n",
      " {'id': 9, 'title': 'deified'},\n",
      " {'id': 10, 'title': 'racecar'},\n",
      " {'id': 11, 'title': 'nun'},\n",
      " {'id': 12, 'title': 'alula'},\n",
      " {'id': 13, 'title': 'civic'},\n",
      " {'id': 14, 'title': 'hannah'},\n",
      " {'id': 15, 'title': 'arara'}]\n"
     ]
    }
   ],
   "source": [
    "import pprint\n",
    "pprint.pprint(data)"
   ]
  },
  {
   "cell_type": "markdown",
   "id": "125c73db",
   "metadata": {},
   "source": [
    "# other way through NLTK"
   ]
  },
  {
   "cell_type": "code",
   "execution_count": null,
   "id": "b2e7476f",
   "metadata": {},
   "outputs": [],
   "source": [
    "# Looping through palindrome"
   ]
  },
  {
   "cell_type": "code",
   "execution_count": null,
   "id": "9f293186",
   "metadata": {},
   "outputs": [],
   "source": []
  }
 ],
 "metadata": {
  "kernelspec": {
   "display_name": "Python 3 (ipykernel)",
   "language": "python",
   "name": "python3"
  },
  "language_info": {
   "codemirror_mode": {
    "name": "ipython",
    "version": 3
   },
   "file_extension": ".py",
   "mimetype": "text/x-python",
   "name": "python",
   "nbconvert_exporter": "python",
   "pygments_lexer": "ipython3",
   "version": "3.9.7"
  }
 },
 "nbformat": 4,
 "nbformat_minor": 5
}
